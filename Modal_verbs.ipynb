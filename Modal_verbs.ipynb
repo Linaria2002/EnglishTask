{
 "cells": [
  {
   "cell_type": "markdown",
   "metadata": {},
   "source": [
    "Import libraries "
   ]
  },
  {
   "cell_type": "code",
   "execution_count": 24,
   "metadata": {},
   "outputs": [
    {
     "name": "stderr",
     "output_type": "stream",
     "text": [
      "[nltk_data] Downloading package punkt to\n",
      "[nltk_data]     C:\\Users\\User\\AppData\\Roaming\\nltk_data...\n",
      "[nltk_data]   Package punkt is already up-to-date!\n",
      "[nltk_data] Downloading package averaged_perceptron_tagger to\n",
      "[nltk_data]     C:\\Users\\User\\AppData\\Roaming\\nltk_data...\n",
      "[nltk_data]   Package averaged_perceptron_tagger is already up-to-\n",
      "[nltk_data]       date!\n"
     ]
    },
    {
     "data": {
      "text/plain": [
       "True"
      ]
     },
     "execution_count": 24,
     "metadata": {},
     "output_type": "execute_result"
    }
   ],
   "source": [
    "import nltk\n",
    "from typing import List\n",
    "from nltk import pos_tag\n",
    "from nltk.tokenize import word_tokenize\n",
    "nltk.download(\"punkt\")\n",
    "nltk.download('averaged_perceptron_tagger')"
   ]
  },
  {
   "cell_type": "markdown",
   "metadata": {},
   "source": [
    "Input sentence is analysis"
   ]
  },
  {
   "cell_type": "code",
   "execution_count": 25,
   "metadata": {},
   "outputs": [],
   "source": [
    "def Input_text()->List:\n",
    "  word_list = []\n",
    "  target_list = []\n",
    "\n",
    "  while True:\n",
    "      try:\n",
    "          text = input(\"Enter your text\")\n",
    "          word_list.append(text)\n",
    "          if text == \"\":\n",
    "              break\n",
    "      except EOFError:\n",
    "          break\n",
    "  for text in word_list:\n",
    "      words = word_tokenize(text)\n",
    "      target_words = pos_tag(words)\n",
    "      target_list.append(target_words)\n",
    "  \n",
    "  return target_list\n"
   ]
  },
  {
   "cell_type": "markdown",
   "metadata": {},
   "source": [
    "評価のコード この評価コードは独立してファイルに保存してギットハブに載せる"
   ]
  },
  {
   "cell_type": "code",
   "execution_count": 26,
   "metadata": {},
   "outputs": [],
   "source": [
    "def accuracy(target_list:List):\n",
    "    M_used_cnt = 0\n",
    "    can_cnt = 0\n",
    "    can_pre = 0\n",
    "    can_past = 0\n",
    "    may_cnt = 0\n",
    "    may_pre = 0\n",
    "    may_past = 0\n",
    "    will_cnt = 0\n",
    "    will_fut = 0\n",
    "    will_past = 0\n",
    "    shall_cnt = 0\n",
    "    shall_pre = 0\n",
    "    shall_past = 0\n",
    "    must_cnt = 0\n",
    "    must_pre = 0\n",
    "    must_past = 0\n",
    "    for word_list in target_list:\n",
    "        for word in word_list:\n",
    "            if word == \"\":\n",
    "                pass\n",
    "            if word[1] == \"MD\":\n",
    "                M_used_cnt += 1\n",
    "                if word[0] == \"Can\" or word[0] == \"can\" or word[0] == \"Could\" or word[0] == \"could\":\n",
    "                    can_cnt += 1\n",
    "                    if word[0] == \"Can\" or word[0] == \"can\":\n",
    "                        can_pre += 1\n",
    "                    else:\n",
    "                        can_past += 1\n",
    "                if word[0] == \"May\" or word[0] == \"may\" or word[0] == \"Might\" or word[0] == \"might\":\n",
    "                    may_cnt += 1\n",
    "                    if word[0] == \"May\" or word[0] == \"may\":\n",
    "                        may_pre += 1\n",
    "                    else:\n",
    "                        may_past += 1\n",
    "                if word[0] == \"Will\" or word[0] == \"will\" or word[0] == \"Would\" or word[0] == \"would\":\n",
    "                    will_cnt += 1\n",
    "                    if word[0] == \"Will\" or word[0] == \"will\":\n",
    "                        will_fut += 1\n",
    "                    else:\n",
    "                        will_past += 1\n",
    "                if word[0] == \"Shall\" or word[0] == \"shall\" or word[0] == \"Should\" or word[0] == \"should\":\n",
    "                    shall_cnt += 1\n",
    "                    if word[0] == \"Shall\" or word[0] == \"shall\":\n",
    "                        shall_pre += 1\n",
    "                    else:\n",
    "                        shall_past += 1\n",
    "                if word[0] == \"Must\" or word[0] == \"must\" or word[0] == \"Had to\" or word[0] == \"had to\":\n",
    "                    must_cnt += 1\n",
    "                    if word[0] == \"Must\" or word[0] == \"must\":\n",
    "                        must_pre += 1\n",
    "                    else:\n",
    "                        must_past += 1                                                              \n",
    "                break\n",
    "    \n",
    "    print(f\"Modal verbs used rate = {M_used_cnt/(len(target_list)-1)}\")#-1は[]の分減らす\n",
    "    if can_cnt >= 1 :\n",
    "        print(f\"Can-rate = {can_cnt/M_used_cnt}\")\n",
    "        print(f\"Can-past-rate = {can_past/can_cnt}\")\n",
    "        print(f\"Can-present-rate = {can_pre/can_cnt}\")\n",
    "    if may_cnt >= 1 :\n",
    "        print(f\"May-rate = {may_cnt/M_used_cnt}\")\n",
    "        print(f\"May-past-rate = {may_past/may_cnt}\")\n",
    "        print(f\"May-present-rate = {may_pre/may_cnt}\")\n",
    "    if will_cnt >= 1 :\n",
    "        print(f\"Will-rate = {will_cnt/M_used_cnt}\")\n",
    "        print(f\"Will-past-rate = {will_past/will_cnt}\")\n",
    "        print(f\"Will-future-rate = {will_fut/will_cnt}\")\n",
    "    if shall_cnt >= 1:\n",
    "        print(f\"Shall-rate = {shall_cnt/M_used_cnt}\")\n",
    "        print(f\"Shall-past-rate = {shall_past/shall_cnt}\")\n",
    "        print(f\"Shall-present-rate = {shall_pre/shall_cnt}\")\n",
    "    if must_cnt >= 1:\n",
    "        print(f\"Must-rate = {must_cnt/M_used_cnt}\")\n",
    "        print(f\"Must-past-rate = {must_past/must_cnt}\")\n",
    "        print(f\"Must-present-rate = {must_pre/must_cnt}\")"
   ]
  },
  {
   "cell_type": "markdown",
   "metadata": {},
   "source": [
    "main関数"
   ]
  },
  {
   "cell_type": "code",
   "execution_count": 27,
   "metadata": {},
   "outputs": [
    {
     "name": "stdout",
     "output_type": "stream",
     "text": [
      "[[('i', 'NN')], [('a', 'DT')], [('a', 'DT')], [('a', 'DT')], [('a', 'DT')], [('can', 'MD')], [('sould', 'NN')], [('could', 'MD')], [('shall', 'MD')], []]\n",
      "Modal verbs used rate = 0.3333333333333333\n",
      "Can-rate = 0.6666666666666666\n",
      "Can-past-rate = 0.5\n",
      "Can-present-rate = 0.5\n",
      "Shall-rate = 0.3333333333333333\n",
      "Shall-past-rate = 0.0\n",
      "Shall-present-rate = 1.0\n"
     ]
    }
   ],
   "source": [
    "if __name__ == \"__main__\":\n",
    "    list = Input_text()\n",
    "    print(list)\n",
    "    accuracy(list)"
   ]
  }
 ],
 "metadata": {
  "kernelspec": {
   "display_name": "Python 3",
   "language": "python",
   "name": "python3"
  },
  "language_info": {
   "codemirror_mode": {
    "name": "ipython",
    "version": 3
   },
   "file_extension": ".py",
   "mimetype": "text/x-python",
   "name": "python",
   "nbconvert_exporter": "python",
   "pygments_lexer": "ipython3",
   "version": "3.12.0"
  }
 },
 "nbformat": 4,
 "nbformat_minor": 2
}
